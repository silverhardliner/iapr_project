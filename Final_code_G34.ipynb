{
 "cells": [
  {
   "attachments": {},
   "cell_type": "markdown",
   "id": "c6317d4d",
   "metadata": {},
   "source": [
    "### Imports"
   ]
  },
  {
   "cell_type": "code",
   "execution_count": 5,
   "id": "be9b1ff7",
   "metadata": {},
   "outputs": [],
   "source": [
    "import os\n",
    "from PIL import Image\n",
    "from utils import Classification, Puzzle, Segmentation\n",
    "import matplotlib as plt"
   ]
  },
  {
   "cell_type": "code",
   "execution_count": 6,
   "id": "89d6c9b5",
   "metadata": {},
   "outputs": [],
   "source": [
    "classifier = Classification()\n",
    "puzzle = Puzzle()\n",
    "segmenter = Segmentation()"
   ]
  },
  {
   "attachments": {},
   "cell_type": "markdown",
   "id": "b56c9a60",
   "metadata": {},
   "source": [
    "# Segmentation"
   ]
  },
  {
   "cell_type": "code",
   "execution_count": 7,
   "id": "0a07aba9",
   "metadata": {
    "scrolled": true
   },
   "outputs": [
    {
     "name": "stderr",
     "output_type": "stream",
     "text": [
      "c:\\Users\\matej\\anaconda3\\envs\\epfl_computer_vision_23\\lib\\site-packages\\skimage\\_shared\\utils.py:157: UserWarning: Any labeled images will be returned as a boolean array. Did you mean to use a boolean array?\n",
      "  return func(*args, **kwargs)\n"
     ]
    }
   ],
   "source": [
    "n_train = 1\n",
    "pieces, mask = segmenter.squares_from_image(n_train)"
   ]
  },
  {
   "cell_type": "code",
   "execution_count": 9,
   "id": "48c691cd",
   "metadata": {},
   "outputs": [
    {
     "data": {
      "text/plain": [
       "array([[[130, 130, 130, 255],\n",
       "        [130, 130, 130, 255],\n",
       "        [130, 130, 130, 255],\n",
       "        ...,\n",
       "        [118, 116, 117, 255],\n",
       "        [118, 116, 117, 255],\n",
       "        [118, 116, 117, 255]],\n",
       "\n",
       "       [[130, 130, 130, 255],\n",
       "        [130, 130, 130, 255],\n",
       "        [130, 130, 130, 255],\n",
       "        ...,\n",
       "        [118, 116, 117, 255],\n",
       "        [118, 116, 117, 255],\n",
       "        [118, 116, 117, 255]],\n",
       "\n",
       "       [[130, 130, 130, 255],\n",
       "        [130, 130, 130, 255],\n",
       "        [130, 130, 130, 255],\n",
       "        ...,\n",
       "        [118, 116, 117, 255],\n",
       "        [118, 116, 117, 255],\n",
       "        [118, 116, 117, 255]],\n",
       "\n",
       "       ...,\n",
       "\n",
       "       [[128, 128, 128, 255],\n",
       "        [128, 128, 128, 255],\n",
       "        [128, 128, 128, 255],\n",
       "        ...,\n",
       "        [248, 248, 248, 255],\n",
       "        [248, 248, 248, 255],\n",
       "        [248, 248, 248, 255]],\n",
       "\n",
       "       [[128, 128, 128, 255],\n",
       "        [128, 128, 128, 255],\n",
       "        [128, 128, 128, 255],\n",
       "        ...,\n",
       "        [248, 248, 248, 255],\n",
       "        [248, 248, 248, 255],\n",
       "        [248, 248, 248, 255]],\n",
       "\n",
       "       [[128, 128, 128, 255],\n",
       "        [128, 128, 128, 255],\n",
       "        [128, 128, 128, 255],\n",
       "        ...,\n",
       "        [248, 248, 248, 255],\n",
       "        [248, 248, 248, 255],\n",
       "        [248, 248, 248, 255]]], dtype=uint8)"
      ]
     },
     "execution_count": 9,
     "metadata": {},
     "output_type": "execute_result"
    }
   ],
   "source": []
  },
  {
   "attachments": {},
   "cell_type": "markdown",
   "id": "1b9c7d24",
   "metadata": {},
   "source": [
    "# Features extraction and classification"
   ]
  },
  {
   "cell_type": "code",
   "execution_count": 8,
   "id": "2eec7d8f",
   "metadata": {
    "scrolled": false
   },
   "outputs": [
    {
     "name": "stderr",
     "output_type": "stream",
     "text": [
      "d:\\Matej\\Erasmus\\MBD\\Svycarsko EPFL\\EPFL_exchange učení\\Image analysis and pattern recognition\\iapr\\project\\utils.py:493: RuntimeWarning: Precision loss occurred in moment calculation due to catastrophic cancellation. This occurs when the data are nearly identical. Results may be unreliable.\n",
      "  features_vector[idx_feature+4] = skew(fimg.flatten())\n",
      "d:\\Matej\\Erasmus\\MBD\\Svycarsko EPFL\\EPFL_exchange učení\\Image analysis and pattern recognition\\iapr\\project\\utils.py:494: RuntimeWarning: Precision loss occurred in moment calculation due to catastrophic cancellation. This occurs when the data are nearly identical. Results may be unreliable.\n",
      "  features_vector[idx_feature+5] = skew(fimgr.flatten())\n",
      "d:\\Matej\\Erasmus\\MBD\\Svycarsko EPFL\\EPFL_exchange učení\\Image analysis and pattern recognition\\iapr\\project\\utils.py:495: RuntimeWarning: Precision loss occurred in moment calculation due to catastrophic cancellation. This occurs when the data are nearly identical. Results may be unreliable.\n",
      "  features_vector[idx_feature+6] = skew(fimgg.flatten())\n",
      "d:\\Matej\\Erasmus\\MBD\\Svycarsko EPFL\\EPFL_exchange učení\\Image analysis and pattern recognition\\iapr\\project\\utils.py:496: RuntimeWarning: Precision loss occurred in moment calculation due to catastrophic cancellation. This occurs when the data are nearly identical. Results may be unreliable.\n",
      "  features_vector[idx_feature+7] = skew(fimgb.flatten())\n",
      "d:\\Matej\\Erasmus\\MBD\\Svycarsko EPFL\\EPFL_exchange učení\\Image analysis and pattern recognition\\iapr\\project\\utils.py:498: FutureWarning: Unlike other reduction functions (e.g. `skew`, `kurtosis`), the default behavior of `mode` typically preserves the axis it acts along. In SciPy 1.11.0, this behavior will change: the default value of `keepdims` will become False, the `axis` over which the statistic is taken will be eliminated, and the value None will no longer be accepted. Set `keepdims` to True or False to avoid this warning.\n",
      "  features_vector[idx_feature+8] = mode(fimg.flatten())[0]\n",
      "d:\\Matej\\Erasmus\\MBD\\Svycarsko EPFL\\EPFL_exchange učení\\Image analysis and pattern recognition\\iapr\\project\\utils.py:501: RuntimeWarning: Precision loss occurred in moment calculation due to catastrophic cancellation. This occurs when the data are nearly identical. Results may be unreliable.\n",
      "  features_vector[idx_feature+10] = np.nan_to_num(kurtosis(fimg.flatten()))\n",
      "c:\\Users\\matej\\anaconda3\\envs\\epfl_computer_vision_23\\lib\\site-packages\\scipy\\stats\\_stats_py.py:7166: RuntimeWarning: invalid value encountered in divide\n",
      "  terms = (f_obs_float - f_exp)**2 / f_exp\n"
     ]
    },
    {
     "ename": "ValueError",
     "evalue": "Input X contains NaN.\nPCA does not accept missing values encoded as NaN natively. For supervised learning, you might want to consider sklearn.ensemble.HistGradientBoostingClassifier and Regressor which accept missing values encoded as NaNs natively. Alternatively, it is possible to preprocess the data, for instance by using an imputer transformer in a pipeline or drop samples with missing values. See https://scikit-learn.org/stable/modules/impute.html You can find a list of all estimators that handle NaN values at the following page: https://scikit-learn.org/stable/modules/impute.html#estimators-that-handle-nan-values",
     "output_type": "error",
     "traceback": [
      "\u001b[1;31m---------------------------------------------------------------------------\u001b[0m",
      "\u001b[1;31mValueError\u001b[0m                                Traceback (most recent call last)",
      "Cell \u001b[1;32mIn[8], line 1\u001b[0m\n\u001b[1;32m----> 1\u001b[0m final_combinations, dist \u001b[38;5;241m=\u001b[39m \u001b[43mclassifier\u001b[49m\u001b[38;5;241;43m.\u001b[39;49m\u001b[43mclassify\u001b[49m\u001b[43m(\u001b[49m\u001b[43mpieces\u001b[49m\u001b[43m)\u001b[49m\n",
      "File \u001b[1;32md:\\Matej\\Erasmus\\MBD\\Svycarsko EPFL\\EPFL_exchange učení\\Image analysis and pattern recognition\\iapr\\project\\utils.py:705\u001b[0m, in \u001b[0;36mClassification.classify\u001b[1;34m(self, pieces)\u001b[0m\n\u001b[0;32m    703\u001b[0m features_vectors \u001b[38;5;241m=\u001b[39m \u001b[38;5;28mself\u001b[39m\u001b[38;5;241m.\u001b[39mnormalize_features_(features_vectors)\n\u001b[0;32m    704\u001b[0m \u001b[38;5;66;03m#Reduce dimentionality of features vectors with PCA\u001b[39;00m\n\u001b[1;32m--> 705\u001b[0m final_features_vectors \u001b[38;5;241m=\u001b[39m \u001b[38;5;28;43mself\u001b[39;49m\u001b[38;5;241;43m.\u001b[39;49m\u001b[43mreduce_dimension_\u001b[49m\u001b[43m(\u001b[49m\u001b[43mfeatures_vectors\u001b[49m\u001b[43m)\u001b[49m\n\u001b[0;32m    706\u001b[0m \u001b[38;5;66;03m#Distance computation\u001b[39;00m\n\u001b[0;32m    707\u001b[0m dist \u001b[38;5;241m=\u001b[39m \u001b[38;5;28mself\u001b[39m\u001b[38;5;241m.\u001b[39mcompute_distance_(final_features_vectors)\n",
      "File \u001b[1;32md:\\Matej\\Erasmus\\MBD\\Svycarsko EPFL\\EPFL_exchange učení\\Image analysis and pattern recognition\\iapr\\project\\utils.py:576\u001b[0m, in \u001b[0;36mClassification.reduce_dimension_\u001b[1;34m(self, features_vectors)\u001b[0m\n\u001b[0;32m    573\u001b[0m pca \u001b[38;5;241m=\u001b[39m PCA(n_components\u001b[38;5;241m=\u001b[39m\u001b[38;5;241m2\u001b[39m)\n\u001b[0;32m    575\u001b[0m \u001b[38;5;66;03m# Fit PCA on your features_vectors array\u001b[39;00m\n\u001b[1;32m--> 576\u001b[0m \u001b[43mpca\u001b[49m\u001b[38;5;241;43m.\u001b[39;49m\u001b[43mfit\u001b[49m\u001b[43m(\u001b[49m\u001b[43mfeatures_vectors\u001b[49m\u001b[43m)\u001b[49m\n\u001b[0;32m    578\u001b[0m \u001b[38;5;66;03m# Apply dimensionality reduction to your features_vectors\u001b[39;00m\n\u001b[0;32m    579\u001b[0m final_features_vectors \u001b[38;5;241m=\u001b[39m pca\u001b[38;5;241m.\u001b[39mtransform(features_vectors)\n",
      "File \u001b[1;32mc:\\Users\\matej\\anaconda3\\envs\\epfl_computer_vision_23\\lib\\site-packages\\sklearn\\decomposition\\_pca.py:435\u001b[0m, in \u001b[0;36mPCA.fit\u001b[1;34m(self, X, y)\u001b[0m\n\u001b[0;32m    417\u001b[0m \u001b[38;5;250m\u001b[39m\u001b[38;5;124;03m\"\"\"Fit the model with X.\u001b[39;00m\n\u001b[0;32m    418\u001b[0m \n\u001b[0;32m    419\u001b[0m \u001b[38;5;124;03mParameters\u001b[39;00m\n\u001b[1;32m   (...)\u001b[0m\n\u001b[0;32m    431\u001b[0m \u001b[38;5;124;03m    Returns the instance itself.\u001b[39;00m\n\u001b[0;32m    432\u001b[0m \u001b[38;5;124;03m\"\"\"\u001b[39;00m\n\u001b[0;32m    433\u001b[0m \u001b[38;5;28mself\u001b[39m\u001b[38;5;241m.\u001b[39m_validate_params()\n\u001b[1;32m--> 435\u001b[0m \u001b[38;5;28;43mself\u001b[39;49m\u001b[38;5;241;43m.\u001b[39;49m\u001b[43m_fit\u001b[49m\u001b[43m(\u001b[49m\u001b[43mX\u001b[49m\u001b[43m)\u001b[49m\n\u001b[0;32m    436\u001b[0m \u001b[38;5;28;01mreturn\u001b[39;00m \u001b[38;5;28mself\u001b[39m\n",
      "File \u001b[1;32mc:\\Users\\matej\\anaconda3\\envs\\epfl_computer_vision_23\\lib\\site-packages\\sklearn\\decomposition\\_pca.py:485\u001b[0m, in \u001b[0;36mPCA._fit\u001b[1;34m(self, X)\u001b[0m\n\u001b[0;32m    479\u001b[0m \u001b[38;5;28;01mif\u001b[39;00m issparse(X):\n\u001b[0;32m    480\u001b[0m     \u001b[38;5;28;01mraise\u001b[39;00m \u001b[38;5;167;01mTypeError\u001b[39;00m(\n\u001b[0;32m    481\u001b[0m         \u001b[38;5;124m\"\u001b[39m\u001b[38;5;124mPCA does not support sparse input. See \u001b[39m\u001b[38;5;124m\"\u001b[39m\n\u001b[0;32m    482\u001b[0m         \u001b[38;5;124m\"\u001b[39m\u001b[38;5;124mTruncatedSVD for a possible alternative.\u001b[39m\u001b[38;5;124m\"\u001b[39m\n\u001b[0;32m    483\u001b[0m     )\n\u001b[1;32m--> 485\u001b[0m X \u001b[38;5;241m=\u001b[39m \u001b[38;5;28;43mself\u001b[39;49m\u001b[38;5;241;43m.\u001b[39;49m\u001b[43m_validate_data\u001b[49m\u001b[43m(\u001b[49m\n\u001b[0;32m    486\u001b[0m \u001b[43m    \u001b[49m\u001b[43mX\u001b[49m\u001b[43m,\u001b[49m\u001b[43m \u001b[49m\u001b[43mdtype\u001b[49m\u001b[38;5;241;43m=\u001b[39;49m\u001b[43m[\u001b[49m\u001b[43mnp\u001b[49m\u001b[38;5;241;43m.\u001b[39;49m\u001b[43mfloat64\u001b[49m\u001b[43m,\u001b[49m\u001b[43m \u001b[49m\u001b[43mnp\u001b[49m\u001b[38;5;241;43m.\u001b[39;49m\u001b[43mfloat32\u001b[49m\u001b[43m]\u001b[49m\u001b[43m,\u001b[49m\u001b[43m \u001b[49m\u001b[43mensure_2d\u001b[49m\u001b[38;5;241;43m=\u001b[39;49m\u001b[38;5;28;43;01mTrue\u001b[39;49;00m\u001b[43m,\u001b[49m\u001b[43m \u001b[49m\u001b[43mcopy\u001b[49m\u001b[38;5;241;43m=\u001b[39;49m\u001b[38;5;28;43mself\u001b[39;49m\u001b[38;5;241;43m.\u001b[39;49m\u001b[43mcopy\u001b[49m\n\u001b[0;32m    487\u001b[0m \u001b[43m\u001b[49m\u001b[43m)\u001b[49m\n\u001b[0;32m    489\u001b[0m \u001b[38;5;66;03m# Handle n_components==None\u001b[39;00m\n\u001b[0;32m    490\u001b[0m \u001b[38;5;28;01mif\u001b[39;00m \u001b[38;5;28mself\u001b[39m\u001b[38;5;241m.\u001b[39mn_components \u001b[38;5;129;01mis\u001b[39;00m \u001b[38;5;28;01mNone\u001b[39;00m:\n",
      "File \u001b[1;32mc:\\Users\\matej\\anaconda3\\envs\\epfl_computer_vision_23\\lib\\site-packages\\sklearn\\base.py:535\u001b[0m, in \u001b[0;36mBaseEstimator._validate_data\u001b[1;34m(self, X, y, reset, validate_separately, **check_params)\u001b[0m\n\u001b[0;32m    533\u001b[0m     \u001b[38;5;28;01mraise\u001b[39;00m \u001b[38;5;167;01mValueError\u001b[39;00m(\u001b[38;5;124m\"\u001b[39m\u001b[38;5;124mValidation should be done on X, y or both.\u001b[39m\u001b[38;5;124m\"\u001b[39m)\n\u001b[0;32m    534\u001b[0m \u001b[38;5;28;01melif\u001b[39;00m \u001b[38;5;129;01mnot\u001b[39;00m no_val_X \u001b[38;5;129;01mand\u001b[39;00m no_val_y:\n\u001b[1;32m--> 535\u001b[0m     X \u001b[38;5;241m=\u001b[39m check_array(X, input_name\u001b[38;5;241m=\u001b[39m\u001b[38;5;124m\"\u001b[39m\u001b[38;5;124mX\u001b[39m\u001b[38;5;124m\"\u001b[39m, \u001b[38;5;241m*\u001b[39m\u001b[38;5;241m*\u001b[39mcheck_params)\n\u001b[0;32m    536\u001b[0m     out \u001b[38;5;241m=\u001b[39m X\n\u001b[0;32m    537\u001b[0m \u001b[38;5;28;01melif\u001b[39;00m no_val_X \u001b[38;5;129;01mand\u001b[39;00m \u001b[38;5;129;01mnot\u001b[39;00m no_val_y:\n",
      "File \u001b[1;32mc:\\Users\\matej\\anaconda3\\envs\\epfl_computer_vision_23\\lib\\site-packages\\sklearn\\utils\\validation.py:919\u001b[0m, in \u001b[0;36mcheck_array\u001b[1;34m(array, accept_sparse, accept_large_sparse, dtype, order, copy, force_all_finite, ensure_2d, allow_nd, ensure_min_samples, ensure_min_features, estimator, input_name)\u001b[0m\n\u001b[0;32m    913\u001b[0m         \u001b[38;5;28;01mraise\u001b[39;00m \u001b[38;5;167;01mValueError\u001b[39;00m(\n\u001b[0;32m    914\u001b[0m             \u001b[38;5;124m\"\u001b[39m\u001b[38;5;124mFound array with dim \u001b[39m\u001b[38;5;132;01m%d\u001b[39;00m\u001b[38;5;124m. \u001b[39m\u001b[38;5;132;01m%s\u001b[39;00m\u001b[38;5;124m expected <= 2.\u001b[39m\u001b[38;5;124m\"\u001b[39m\n\u001b[0;32m    915\u001b[0m             \u001b[38;5;241m%\u001b[39m (array\u001b[38;5;241m.\u001b[39mndim, estimator_name)\n\u001b[0;32m    916\u001b[0m         )\n\u001b[0;32m    918\u001b[0m     \u001b[38;5;28;01mif\u001b[39;00m force_all_finite:\n\u001b[1;32m--> 919\u001b[0m         \u001b[43m_assert_all_finite\u001b[49m\u001b[43m(\u001b[49m\n\u001b[0;32m    920\u001b[0m \u001b[43m            \u001b[49m\u001b[43marray\u001b[49m\u001b[43m,\u001b[49m\n\u001b[0;32m    921\u001b[0m \u001b[43m            \u001b[49m\u001b[43minput_name\u001b[49m\u001b[38;5;241;43m=\u001b[39;49m\u001b[43minput_name\u001b[49m\u001b[43m,\u001b[49m\n\u001b[0;32m    922\u001b[0m \u001b[43m            \u001b[49m\u001b[43mestimator_name\u001b[49m\u001b[38;5;241;43m=\u001b[39;49m\u001b[43mestimator_name\u001b[49m\u001b[43m,\u001b[49m\n\u001b[0;32m    923\u001b[0m \u001b[43m            \u001b[49m\u001b[43mallow_nan\u001b[49m\u001b[38;5;241;43m=\u001b[39;49m\u001b[43mforce_all_finite\u001b[49m\u001b[43m \u001b[49m\u001b[38;5;241;43m==\u001b[39;49m\u001b[43m \u001b[49m\u001b[38;5;124;43m\"\u001b[39;49m\u001b[38;5;124;43mallow-nan\u001b[39;49m\u001b[38;5;124;43m\"\u001b[39;49m\u001b[43m,\u001b[49m\n\u001b[0;32m    924\u001b[0m \u001b[43m        \u001b[49m\u001b[43m)\u001b[49m\n\u001b[0;32m    926\u001b[0m \u001b[38;5;28;01mif\u001b[39;00m ensure_min_samples \u001b[38;5;241m>\u001b[39m \u001b[38;5;241m0\u001b[39m:\n\u001b[0;32m    927\u001b[0m     n_samples \u001b[38;5;241m=\u001b[39m _num_samples(array)\n",
      "File \u001b[1;32mc:\\Users\\matej\\anaconda3\\envs\\epfl_computer_vision_23\\lib\\site-packages\\sklearn\\utils\\validation.py:161\u001b[0m, in \u001b[0;36m_assert_all_finite\u001b[1;34m(X, allow_nan, msg_dtype, estimator_name, input_name)\u001b[0m\n\u001b[0;32m    144\u001b[0m \u001b[38;5;28;01mif\u001b[39;00m estimator_name \u001b[38;5;129;01mand\u001b[39;00m input_name \u001b[38;5;241m==\u001b[39m \u001b[38;5;124m\"\u001b[39m\u001b[38;5;124mX\u001b[39m\u001b[38;5;124m\"\u001b[39m \u001b[38;5;129;01mand\u001b[39;00m has_nan_error:\n\u001b[0;32m    145\u001b[0m     \u001b[38;5;66;03m# Improve the error message on how to handle missing values in\u001b[39;00m\n\u001b[0;32m    146\u001b[0m     \u001b[38;5;66;03m# scikit-learn.\u001b[39;00m\n\u001b[0;32m    147\u001b[0m     msg_err \u001b[38;5;241m+\u001b[39m\u001b[38;5;241m=\u001b[39m (\n\u001b[0;32m    148\u001b[0m         \u001b[38;5;124mf\u001b[39m\u001b[38;5;124m\"\u001b[39m\u001b[38;5;130;01m\\n\u001b[39;00m\u001b[38;5;132;01m{\u001b[39;00mestimator_name\u001b[38;5;132;01m}\u001b[39;00m\u001b[38;5;124m does not accept missing values\u001b[39m\u001b[38;5;124m\"\u001b[39m\n\u001b[0;32m    149\u001b[0m         \u001b[38;5;124m\"\u001b[39m\u001b[38;5;124m encoded as NaN natively. For supervised learning, you might want\u001b[39m\u001b[38;5;124m\"\u001b[39m\n\u001b[1;32m   (...)\u001b[0m\n\u001b[0;32m    159\u001b[0m         \u001b[38;5;124m\"\u001b[39m\u001b[38;5;124m#estimators-that-handle-nan-values\u001b[39m\u001b[38;5;124m\"\u001b[39m\n\u001b[0;32m    160\u001b[0m     )\n\u001b[1;32m--> 161\u001b[0m \u001b[38;5;28;01mraise\u001b[39;00m \u001b[38;5;167;01mValueError\u001b[39;00m(msg_err)\n",
      "\u001b[1;31mValueError\u001b[0m: Input X contains NaN.\nPCA does not accept missing values encoded as NaN natively. For supervised learning, you might want to consider sklearn.ensemble.HistGradientBoostingClassifier and Regressor which accept missing values encoded as NaNs natively. Alternatively, it is possible to preprocess the data, for instance by using an imputer transformer in a pipeline or drop samples with missing values. See https://scikit-learn.org/stable/modules/impute.html You can find a list of all estimators that handle NaN values at the following page: https://scikit-learn.org/stable/modules/impute.html#estimators-that-handle-nan-values"
     ]
    }
   ],
   "source": [
    "final_combinations, dist = classifier.classify(pieces)"
   ]
  },
  {
   "attachments": {},
   "cell_type": "markdown",
   "id": "f7f01b8c",
   "metadata": {},
   "source": [
    "## Save the classified data"
   ]
  },
  {
   "cell_type": "code",
   "execution_count": null,
   "id": "28fb16dc",
   "metadata": {
    "scrolled": false
   },
   "outputs": [
    {
     "name": "stdout",
     "output_type": "stream",
     "text": [
      "[WinError 183] Impossible de créer un fichier déjà existant: 'C:\\\\Users\\\\nalbe\\\\iapr\\\\project\\\\output_train_09'\n",
      "9\n",
      "The culstering seems correct for puzzle n° 0\n",
      "9\n",
      "The culstering seems correct for puzzle n° 1\n",
      "11\n",
      "Careful! The puzzle n°2 contains one or more outliers!\n"
     ]
    }
   ],
   "source": [
    "# path\n",
    "parent_dir = os.getcwd()\n",
    "\n",
    "directory = \"output_train_{}\".format(str(n_train).zfill(2))\n",
    "path = os.path.join(parent_dir, directory)\n",
    "\n",
    "try:\n",
    "    os.mkdir(path)\n",
    "except OSError as error:\n",
    "    print(error) \n",
    "    \n",
    "n_outlier = 0\n",
    "n_puzzle = 0\n",
    "\n",
    "for i in range(len(final_combinations)):\n",
    "    \n",
    "    print(len(final_combinations[i]))\n",
    "    if (len(final_combinations[i]) == 9 or len(final_combinations[i]) == 12 or len(final_combinations[i]) == 16):\n",
    "        print(\"The culstering seems correct for puzzle n°\", n_puzzle)\n",
    "    else:\n",
    "        print(\"Careful! The puzzle n°{} contains one or more outliers!\".format(str(n_puzzle)))     \n",
    "            \n",
    "    for j in range(len(final_combinations[i])):\n",
    "        if len(final_combinations[i]) < 4:\n",
    "            filename =os.path.join(path, \"outlier_{}_{}.png\".format(str(n_train).zfill(2), str(n_outlier).zfill(2)))\n",
    "            Image.fromarray(pieces[final_combinations[i][j]]).save(filename)\n",
    "            n_outlier += 1\n",
    "        else:\n",
    "            filename =os.path.join(path, \"solution_{}_{}_{}.png\".format(str(n_train).zfill(2), str(n_puzzle).zfill(2), str(j).zfill(2)))\n",
    "            Image.fromarray(pieces[final_combinations[i][j]]).save(filename)\n",
    "            \n",
    "        if j == (len(final_combinations[i]) - 1):\n",
    "            n_puzzle += 1\n",
    "    "
   ]
  },
  {
   "attachments": {},
   "cell_type": "markdown",
   "id": "673af64a",
   "metadata": {},
   "source": [
    "## Group the pieces together to complete the puzzle"
   ]
  },
  {
   "cell_type": "code",
   "execution_count": null,
   "id": "6170d51d",
   "metadata": {},
   "outputs": [],
   "source": [
    "#subpart_images = [...]\n",
    "\n",
    "#groupes_pieces = puzzle.group_images(subpart_images)\n",
    "#big_image.save('big_image.jpg')"
   ]
  }
 ],
 "metadata": {
  "kernelspec": {
   "display_name": "Python 3",
   "language": "python",
   "name": "python3"
  },
  "language_info": {
   "codemirror_mode": {
    "name": "ipython",
    "version": 3
   },
   "file_extension": ".py",
   "mimetype": "text/x-python",
   "name": "python",
   "nbconvert_exporter": "python",
   "pygments_lexer": "ipython3",
   "version": "3.9.13"
  }
 },
 "nbformat": 4,
 "nbformat_minor": 5
}
