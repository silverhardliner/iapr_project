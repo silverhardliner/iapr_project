{
 "cells": [
  {
   "cell_type": "markdown",
   "metadata": {},
   "source": [
    "# [IAPR][iapr]: Project\n",
    "\n",
    "\n",
    "**Group ID:** 41\n",
    "\n",
    "**Author 1 (sciper):** Matěj Kopecký (367246)    \n",
    "**Author 2 (sciper):** Nicolas Albert (299479)    \n",
    "**Author 3 (sciper):** Ismail Benkirane (295855)   \n",
    "\n",
    "**Release date:** 27.04.2023\n",
    "\n",
    "\n",
    "## Important notes\n",
    "\n",
    "The assignments are designed to teach practical implementation of the topics presented during class as well as preparation for the final project, which is a practical project which ties together the topics of the course. \n",
    "\n",
    "As such, in the lab assignments/final project, unless otherwise specified, you may, if you choose, use external functions from image processing/ML libraries like opencv and sklearn as long as there is sufficient explanation in the lab report. For example, you do not need to implement your own edge detector, etc.\n",
    "\n",
    "**! Before handling back the notebook !** rerun the notebook from scratch `Kernel` > `Restart & Run All`\n",
    "\n",
    "\n",
    "[iapr]: https://github.com/LTS5/iapr"
   ]
  },
  {
   "cell_type": "markdown",
   "metadata": {},
   "source": [
    "---\n",
    "## 0. Introduction\n",
    "\n",
    "In this project, you will be working on solving tiling puzzles using image analysis and pattern recognition techniques. Tiling puzzles are a classic type of puzzle game that consists of fitting together pieces of a given shape (in this case squared to form a complete image. The goal of this project is to develop an algorithm that can automatically reconstruct tiling puzzles from a single input image. \n",
    "\n",
    "---\n",
    "\n",
    "## 1. Data\n",
    "\n",
    "### Input data\n",
    "To achieve your task, you will be given images that look like this:\n",
    "\n",
    "\n",
    "![train_00.png](data_project/project_description/train_00.png)\n",
    "\n",
    "### Example puzzle content\n",
    "Example of input of solved puzzles. \n",
    "Solution 1\n",
    "<img src=\"data_project/project_description/solution_example.png\" width=\"512\"/>\n",
    "Solution 2\n",
    "<img src=\"data_project/project_description/solution_example2.jpg\" width=\"512\"/>\n"
   ]
  },
  {
   "cell_type": "markdown",
   "metadata": {},
   "source": [
    "### 1.1. Image layout\n",
    "\n",
    "- The input for the program will be a single image with a size of __2000x2000 pixels__, containing the pieces of the tiling puzzles randomly placed in it. The puzzles sizes vary from __3x3, 3x4, or 4x4__ size. \n",
    "    -__You are guaranteed to always have the exact number of pieces for each puzzle__ \n",
    "        -For each puzzle you always are expected to find exaclty 9,12,16 pieces\n",
    "        -If you find something else, either you are missing pieces, or added incorrect pieces for the puzzle\n",
    "\n",
    "- The puzzle pieces are square-shaped with dimensions of 128x128 pixels (before rotation). \n",
    "\n",
    "- The input image will contain pieces from __two or three (but never four)__ different tiling puzzles, as well as some __extra pieces (outliers)__ that do not belong to either puzzle.\n",
    "\n",
    "\n",
    "## 2. Tasks (Total 20 points) \n",
    "\n",
    "\n",
    "The project aims to:\n",
    "1) Segment the puzzle pieces from the background (recover the pieces of 128x128 pixels)   \\[ __5 points__ \\] \n",
    "\n",
    "2) Extract features of interest from puzzle pieces images \\[ __5 points__ \\]   \n",
    "\n",
    "3) Cluster puzzle pieces to identify which puzzle they belong, and identify outliers.  \\[ __5 points__ \\]   \n",
    "\n",
    "4) Solve tiling puzzle (find the rotations and translations to correctly allocate the puzzle pieces in a 3x3, 3x4 or 4x4 array.) \\[ __5 points__ \\]   \n",
    "\n",
    "##### The images used for the puzzles have self-repeating patterns or textures, which ensures that all puzzle pieces contain more or less the same features regardless of how they were cut. \n",
    "\n",
    "\n",
    "\n",
    "\n",
    "### 1.2. Output solution pieces.\n",
    "\n",
    "For each inpute image, the output solution will include N images with solved puzzles, where N is the number of puzzles in the input image. and M images, that are Each of these images will contain the solved solution to one of the N puzzles in the input. \n",
    "\n",
    "\n",
    "-  Example input:  train_05.png\n",
    "\n",
    "- Example solution:\n",
    "        -solution_05_00.png solution_05_01.png solution_05_02.png \n",
    "        -outlier_05_00.png outlier_05_01.png outlier_05_02.png ...\n",
    "\n",
    "- Example input:  train_07.png\n",
    "- Example solution:\n",
    "        -solution_07_00.png solution_07_01.png \n",
    "        -outlier_07_00.png outlier_07_01.png outlier_07_02.png ...\n",
    "\n",
    "\n",
    "__Watch out!__ output resolution should always be like this:  \n",
    "<table ><tr><th >Puzzle pieces <th><th> pixel dimentions <th> <th> pixel dimentions <th> <tr>\n",
    "<tr><td> 3x3 <td><td> 384x384 <td><td> 3(128)x3(128) <td> <tr>\n",
    "<tr><td> 3x4 <td><td> 384x512 <td><td> 3(128)x4(128)<tr>\n",
    "<tr><td> 4x4 <td><td> 512x512 <td><td> 4(128)x4(128)<tr>\n",
    "<tr><td> 1x1 (outlier)<td><td> 128x128 <td><td> (1)128x(1)128 <td><tr><table>\n",
    "\n"
   ]
  },
  {
   "cell_type": "markdown",
   "metadata": {},
   "source": [
    "\n",
    "\n",
    "__Order of the solutions (and rotations) it's not a problem for the grading__\n",
    "\n",
    "\n",
    "\n",
    "\n",
    "the output solution will be a final image of resolution (1283)x(1283), with each piece correctly placed in its corresponding location in the 3x3 array. Similarly, if the puzzle consists of 3x4 or 4x4 pieces, the output solution will be an image of resolution (1283)x(1284) or (1284)x(1284)\n",
    "\n",
    "\n",
    "\n",
    "### 1.3 Data folder Structure\n",
    "\n",
    "You can download the data for the project here: [download data](https://drive.google.com/drive/folders/1k3xTH0ZhpqZb3xcZ6wsOSjLzxBNYabg3?usp=share_link)\n",
    "\n",
    "```\n",
    "data_project\n",
    "│\n",
    "└─── project_description\n",
    "│    │    example_input.png      # example input images\n",
    "│    │    example_textures1.png      # example input images\n",
    "│    │    example_textures2.png      # example input images\n",
    "│    └─── ultimate_test.jpg   # If it works on that image, you would probably end up with a good score\n",
    "│\n",
    "└─── train\n",
    "│    │    train_00.png        # Train image 00\n",
    "│    │    ...\n",
    "│    │    train_16.png        # Train image 16\n",
    "│    └─── train_labels.csv    # Ground truth of the train set\n",
    "|    \n",
    "└────train_solution\n",
    "│    │    solution_00_00.png        # Solution puzzle 1 from Train image 00\n",
    "│    │    solution_00_01.png        # Solution puzzle 2 from Train image 00\n",
    "│    │    solution_00_02.png        # Solution Puzzle 3 from Train image 00\n",
    "│    │    outlier_00_00.png         # outlier     from Train image 00\n",
    "│    │    outlier_00_01.png         # outlier     from Train image 00\n",
    "│    │    outlier_00_03.png         # outlier     from Train image 00\n",
    "│    │    ...\n",
    "│    │    solution_15_00.png        # Solution puzzle 1 from Train image 15\n",
    "│    │    solution_15_01.png        # Solution puzzle 2 from Train image 15\n",
    "│    │    outlier_15_00.png         # outlier     from Train image 15\n",
    "│    └─── outlier_15_01.png         # outlier     from Train image 15\n",
    "│\n",
    "└─── test\n",
    "     │    test_00.png         # Test image 00 (day of the exam only)\n",
    "     │    ...\n",
    "     └─── test_xx.png             # Test image xx (day of the exam only)\n",
    "```\n"
   ]
  },
  {
   "cell_type": "markdown",
   "metadata": {},
   "source": [
    "\n",
    "## 3. Evaluation\n",
    "\n",
    "**Before the exam**\n",
    "   - Create a zipped folder named **groupid_xx.zip** that you upload on moodle (xx being your group number).\n",
    "   - Include a **runnable** code (Jupyter Notebook and external files) and your presentation in the zip folder.\n",
    "   \n",
    "**The day of the exam**\n",
    "   - You will be given a **new folder** (test folder) with few images, but **no ground truth** (no solutions).\n",
    "   - We will ask you to run your pipeline in **real time** and to send us your prediction of the task you obtain with the provided function **save_results**. \n",
    "   - On our side, we will compute the performance of your classification algorithm. \n",
    "   - To evaluate your method, we will use the **evaluate_solution** function presented below. To understand how the provided functions work, please read the documentation of the functions in **utils.py**.\n",
    "   - **Please make sure your function returns the proper data format to avoid points penalty on the day of the exam**. \n",
    "---\n",
    "\n",
    "\n",
    "## 4. Your code"
   ]
  },
  {
   "cell_type": "code",
   "execution_count": 1,
   "metadata": {},
   "outputs": [],
   "source": [
    "## load images\n",
    "import os \n",
    "from PIL import Image\n",
    "\n",
    "from typing import Union\n",
    "from glob import glob\n",
    "import warnings"
   ]
  },
  {
   "cell_type": "code",
   "execution_count": 2,
   "metadata": {},
   "outputs": [],
   "source": [
    "from utils import Classification, Puzzle, Segmentation\n",
    "from save_evaluation_files import export_solutions"
   ]
  },
  {
   "cell_type": "code",
   "execution_count": 3,
   "metadata": {},
   "outputs": [],
   "source": [
    "classifier = Classification()\n",
    "puzzle = Puzzle()\n",
    "segmenter = Segmentation()"
   ]
  },
  {
   "cell_type": "code",
   "execution_count": 4,
   "metadata": {},
   "outputs": [],
   "source": [
    "warnings.filterwarnings(\"ignore\")"
   ]
  },
  {
   "cell_type": "code",
   "execution_count": 7,
   "metadata": {},
   "outputs": [
    {
     "name": "stdout",
     "output_type": "stream",
     "text": [
      "solving  0\n"
     ]
    },
    {
     "data": {
      "text/html": [
       "<pre style=\"white-space:pre;overflow-x:auto;line-height:normal;font-family:Menlo,'DejaVu Sans Mono',consolas,'Courier New',monospace\">saving solutions in folder:  data_project/solutions_group_41\n",
       "</pre>\n"
      ],
      "text/plain": [
       "saving solutions in folder:  data_project/solutions_group_41\n"
      ]
     },
     "metadata": {},
     "output_type": "display_data"
    },
    {
     "name": "stdout",
     "output_type": "stream",
     "text": [
      "solving  1\n"
     ]
    },
    {
     "data": {
      "text/html": [
       "<pre style=\"white-space:pre;overflow-x:auto;line-height:normal;font-family:Menlo,'DejaVu Sans Mono',consolas,'Courier New',monospace\">saving solutions in folder:  data_project/solutions_group_41\n",
       "</pre>\n"
      ],
      "text/plain": [
       "saving solutions in folder:  data_project/solutions_group_41\n"
      ]
     },
     "metadata": {},
     "output_type": "display_data"
    },
    {
     "name": "stdout",
     "output_type": "stream",
     "text": [
      "solving  2\n"
     ]
    },
    {
     "data": {
      "text/html": [
       "<pre style=\"white-space:pre;overflow-x:auto;line-height:normal;font-family:Menlo,'DejaVu Sans Mono',consolas,'Courier New',monospace\">saving solutions in folder:  data_project/solutions_group_41\n",
       "</pre>\n"
      ],
      "text/plain": [
       "saving solutions in folder:  data_project/solutions_group_41\n"
      ]
     },
     "metadata": {},
     "output_type": "display_data"
    },
    {
     "name": "stdout",
     "output_type": "stream",
     "text": [
      "solving  3\n"
     ]
    },
    {
     "data": {
      "text/html": [
       "<pre style=\"white-space:pre;overflow-x:auto;line-height:normal;font-family:Menlo,'DejaVu Sans Mono',consolas,'Courier New',monospace\">saving solutions in folder:  data_project/solutions_group_41\n",
       "</pre>\n"
      ],
      "text/plain": [
       "saving solutions in folder:  data_project/solutions_group_41\n"
      ]
     },
     "metadata": {},
     "output_type": "display_data"
    },
    {
     "name": "stdout",
     "output_type": "stream",
     "text": [
      "solving  4\n"
     ]
    },
    {
     "data": {
      "text/html": [
       "<pre style=\"white-space:pre;overflow-x:auto;line-height:normal;font-family:Menlo,'DejaVu Sans Mono',consolas,'Courier New',monospace\">saving solutions in folder:  data_project/solutions_group_41\n",
       "</pre>\n"
      ],
      "text/plain": [
       "saving solutions in folder:  data_project/solutions_group_41\n"
      ]
     },
     "metadata": {},
     "output_type": "display_data"
    },
    {
     "name": "stdout",
     "output_type": "stream",
     "text": [
      "solving  5\n"
     ]
    },
    {
     "data": {
      "text/html": [
       "<pre style=\"white-space:pre;overflow-x:auto;line-height:normal;font-family:Menlo,'DejaVu Sans Mono',consolas,'Courier New',monospace\">saving solutions in folder:  data_project/solutions_group_41\n",
       "</pre>\n"
      ],
      "text/plain": [
       "saving solutions in folder:  data_project/solutions_group_41\n"
      ]
     },
     "metadata": {},
     "output_type": "display_data"
    },
    {
     "name": "stdout",
     "output_type": "stream",
     "text": [
      "solving  6\n"
     ]
    },
    {
     "data": {
      "text/html": [
       "<pre style=\"white-space:pre;overflow-x:auto;line-height:normal;font-family:Menlo,'DejaVu Sans Mono',consolas,'Courier New',monospace\">saving solutions in folder:  data_project/solutions_group_41\n",
       "</pre>\n"
      ],
      "text/plain": [
       "saving solutions in folder:  data_project/solutions_group_41\n"
      ]
     },
     "metadata": {},
     "output_type": "display_data"
    },
    {
     "name": "stdout",
     "output_type": "stream",
     "text": [
      "solving  7\n"
     ]
    },
    {
     "data": {
      "text/html": [
       "<pre style=\"white-space:pre;overflow-x:auto;line-height:normal;font-family:Menlo,'DejaVu Sans Mono',consolas,'Courier New',monospace\">saving solutions in folder:  data_project/solutions_group_41\n",
       "</pre>\n"
      ],
      "text/plain": [
       "saving solutions in folder:  data_project/solutions_group_41\n"
      ]
     },
     "metadata": {},
     "output_type": "display_data"
    },
    {
     "name": "stdout",
     "output_type": "stream",
     "text": [
      "solving  8\n"
     ]
    },
    {
     "data": {
      "text/html": [
       "<pre style=\"white-space:pre;overflow-x:auto;line-height:normal;font-family:Menlo,'DejaVu Sans Mono',consolas,'Courier New',monospace\">saving solutions in folder:  data_project/solutions_group_41\n",
       "</pre>\n"
      ],
      "text/plain": [
       "saving solutions in folder:  data_project/solutions_group_41\n"
      ]
     },
     "metadata": {},
     "output_type": "display_data"
    },
    {
     "name": "stdout",
     "output_type": "stream",
     "text": [
      "solving  9\n"
     ]
    },
    {
     "data": {
      "text/html": [
       "<pre style=\"white-space:pre;overflow-x:auto;line-height:normal;font-family:Menlo,'DejaVu Sans Mono',consolas,'Courier New',monospace\">saving solutions in folder:  data_project/solutions_group_41\n",
       "</pre>\n"
      ],
      "text/plain": [
       "saving solutions in folder:  data_project/solutions_group_41\n"
      ]
     },
     "metadata": {},
     "output_type": "display_data"
    },
    {
     "name": "stdout",
     "output_type": "stream",
     "text": [
      "solving  10\n"
     ]
    },
    {
     "data": {
      "text/html": [
       "<pre style=\"white-space:pre;overflow-x:auto;line-height:normal;font-family:Menlo,'DejaVu Sans Mono',consolas,'Courier New',monospace\">saving solutions in folder:  data_project/solutions_group_41\n",
       "</pre>\n"
      ],
      "text/plain": [
       "saving solutions in folder:  data_project/solutions_group_41\n"
      ]
     },
     "metadata": {},
     "output_type": "display_data"
    },
    {
     "name": "stdout",
     "output_type": "stream",
     "text": [
      "solving  11\n"
     ]
    },
    {
     "data": {
      "text/html": [
       "<pre style=\"white-space:pre;overflow-x:auto;line-height:normal;font-family:Menlo,'DejaVu Sans Mono',consolas,'Courier New',monospace\">saving solutions in folder:  data_project/solutions_group_41\n",
       "</pre>\n"
      ],
      "text/plain": [
       "saving solutions in folder:  data_project/solutions_group_41\n"
      ]
     },
     "metadata": {},
     "output_type": "display_data"
    }
   ],
   "source": [
    "group_id = 41\n",
    "path = \"data_project\"\n",
    "# Evaluate all images\n",
    "games_id = [0, 1, 2, 3, 4, 5, 6, 7, 8, 9, 10,11]  # to evaluate  three images\n",
    "\n",
    "for i in games_id :\n",
    "    \n",
    "    print(\"solving \" , i)\n",
    "    \n",
    "    #Segmentation\n",
    "    pieces, mask = segmenter.squares_from_image(i)\n",
    "    \n",
    "    #Features Extraction And Classification\n",
    "    cluster, feature_map = classifier.classify(pieces)\n",
    "        \n",
    "    solved_puzzles = []\n",
    "    for combination in cluster:\n",
    "        solved_puzzle = puzzle.group_images(combination)\n",
    "        solved_puzzles.append(solved_puzzle)\n",
    "    \n",
    "    # Saving results\n",
    "    solution = [mask, feature_map, cluster, solved_puzzles]\n",
    "    export_solutions(i,  solution, path, group_id)"
   ]
  },
  {
   "cell_type": "code",
   "execution_count": null,
   "metadata": {},
   "outputs": [],
   "source": []
  }
 ],
 "metadata": {
  "kernelspec": {
   "display_name": "Python 3 (ipykernel)",
   "language": "python",
   "name": "python3"
  },
  "language_info": {
   "codemirror_mode": {
    "name": "ipython",
    "version": 3
   },
   "file_extension": ".py",
   "mimetype": "text/x-python",
   "name": "python",
   "nbconvert_exporter": "python",
   "pygments_lexer": "ipython3",
   "version": "3.9.12"
  }
 },
 "nbformat": 4,
 "nbformat_minor": 2
}
